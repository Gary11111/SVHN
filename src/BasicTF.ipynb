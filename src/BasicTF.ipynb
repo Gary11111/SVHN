{
 "cells": [
  {
   "cell_type": "code",
   "execution_count": 2,
   "metadata": {},
   "outputs": [],
   "source": [
    "import tensorflow as tf"
   ]
  },
  {
   "cell_type": "code",
   "execution_count": 18,
   "metadata": {},
   "outputs": [
    {
     "name": "stdout",
     "output_type": "stream",
     "text": [
      "(1, 1, 1, 1)\n",
      "[[[[1.4561454]]]]\n"
     ]
    }
   ],
   "source": [
    "import numpy as np\n",
    "image = tf.Variable(tf.random.normal([1,3,3,3]))\n",
    "convFilter = tf.Variable(tf.random.normal([3,3,3,1])) \n",
    "\n",
    "res = tf.nn.conv2d(image,convFilter,strides=[1,1,1,1],padding='VALID')\n",
    "\n",
    "with tf.Session() as sess:\n",
    "    sess.run(tf.initialize_all_variables())\n",
    "    feature_map = sess.run(res)\n",
    "    print(feature_map.shape)\n",
    "    print(feature_map)"
   ]
  },
  {
   "cell_type": "code",
   "execution_count": null,
   "metadata": {},
   "outputs": [],
   "source": []
  }
 ],
 "metadata": {
  "kernelspec": {
   "display_name": "Python (base)",
   "language": "python",
   "name": "py27"
  },
  "language_info": {
   "codemirror_mode": {
    "name": "ipython",
    "version": 3
   },
   "file_extension": ".py",
   "mimetype": "text/x-python",
   "name": "python",
   "nbconvert_exporter": "python",
   "pygments_lexer": "ipython3",
   "version": "3.7.3"
  }
 },
 "nbformat": 4,
 "nbformat_minor": 2
}
